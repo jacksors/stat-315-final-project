{
 "cells": [
  {
   "source": "1. Feature Importance Analysis: Which factors are most predictive of readmission for diabetic patients?\n    - This question aims to utilize predictive modeling to identify variables that significantly influence the likelihood of a              patient being readmitted again after discharge.\n2. Comparative Analysis: How do readmission rates differ among different demographic groups (age, gender, race)?\n    - This explores whether there is a disparity in readmission rates among different patient demographics, which could guide               targeted interventions.\n3. Treatment and Testing Variables: What role do the number of lab tests performed during the stay, changes in medication, and the results of HbA1c tests play in predicting readmissions?\n4. Healthcare Utilization and Outcomes: How do the number of emergency visits, inpatient stays, and outpatient visits in the year prior to the hospitalization correlate with readmission rates?",
   "metadata": {},
   "cell_type": "markdown",
   "id": "b507664d-461c-4a2d-a87d-97b6e9af4009"
  },
  {
   "source": [
    "from datasets import load_dataset\n",
    "%matplotlib inline\n",
    "import matplotlib.pyplot as plt\n",
    "import seaborn as sns\n",
    "import numpy as np\n",
    "import pandas as pd\n",
    "import statsmodels.api as sm\n",
    "from IPython.core.interactiveshell import InteractiveShell\n",
    "InteractiveShell.ast_node_interactivity = \"all\"\n",
    "\n",
    "train = load_dataset(\"csv\", data_files=\"dataset/train.csv\")\n",
    "test = load_dataset(\"csv\", data_files=\"dataset/test.csv\")\n",
    "train_df = pd.DataFrame(train)\n",
    "test_df = pd.DataFrame(test)"
   ],
   "metadata": {
    "executionCancelledAt": null,
    "executionTime": 90973,
    "lastExecutedAt": 1714150549344,
    "lastExecutedByKernel": "f4393631-cfa6-42ac-929c-dea65ad8aae0",
    "lastScheduledRunId": null,
    "lastSuccessfullyExecutedCode": "from datasets import load_dataset\n%matplotlib inline\nimport matplotlib.pyplot as plt\nimport seaborn as sns\nimport numpy as np\nimport pandas as pd\nimport statsmodels.api as sm\nfrom IPython.core.interactiveshell import InteractiveShell\nInteractiveShell.ast_node_interactivity = \"all\"\n\ndataset = load_dataset(\"imodels/diabetes-readmission\")\ntrain_df = pd.DataFrame(dataset['train'])\ntest_df = pd.DataFrame(dataset['test'])",
    "outputsMetadata": {
     "1": {
      "height": 59,
      "type": "stream"
     }
    }
   },
   "id": "ae1928f2-9b7b-4cb2-a3d8-086fc59222c4",
   "cell_type": "code",
   "execution_count": 8,
   "outputs": []
  },
  {
   "source": "# **Feature Importance Analysis**\nWhich factors are most predictive of readmission for diabetic patients?\n    - This question aims to utilize predictive modeling to identify variables that significantly influence the likelihood of a              patient being readmitted again after discharge.",
   "metadata": {},
   "cell_type": "markdown",
   "id": "12a4d7ec-e116-44b9-b2b3-04f6265454e7"
  },
  {
   "source": "# Adjusting the code to display only the top 10 features with the greatest feature importance\n\n# Assuming the rest of the code is unchanged and focusing on the feature importance part\n\n# Get the indices of the 10 features with the greatest importance\ntop_10_indices = np.argsort(feature_importances)[-10:]\n\nplt.figure(figsize=(10, 8))\nplt.title('Top 10 Feature Importances')\nplt.barh(range(len(top_10_indices)), feature_importances[top_10_indices], color='b', align='center')\nplt.yticks(range(len(top_10_indices)), [features[i] for i in top_10_indices])\nplt.xlabel('Relative Importance')\nplt.show()",
   "metadata": {
    "executionCancelledAt": null,
    "executionTime": 341,
    "lastExecutedAt": 1714151778744,
    "lastExecutedByKernel": "f4393631-cfa6-42ac-929c-dea65ad8aae0",
    "lastScheduledRunId": null,
    "lastSuccessfullyExecutedCode": "# Adjusting the code to display only the top 10 features with the greatest feature importance\n\n# Assuming the rest of the code is unchanged and focusing on the feature importance part\n\n# Get the indices of the 10 features with the greatest importance\ntop_10_indices = np.argsort(feature_importances)[-10:]\n\nplt.figure(figsize=(10, 8))\nplt.title('Top 10 Feature Importances')\nplt.barh(range(len(top_10_indices)), feature_importances[top_10_indices], color='b', align='center')\nplt.yticks(range(len(top_10_indices)), [features[i] for i in top_10_indices])\nplt.xlabel('Relative Importance')\nplt.show()",
    "outputsMetadata": {
     "1": {
      "height": 38,
      "type": "stream"
     }
    }
   },
   "cell_type": "code",
   "id": "d0b0e01b-9ce0-4e4e-aa09-982a412d25d5",
   "execution_count": 13,
   "outputs": []
  },
  {
   "source": "# **Comparative Analysis**\nHow do readmission rates differ among different demographic groups (age, gender, race)?\n    - This explores whether there is a disparity in readmission rates among different patient demographics, which could guide               targeted interventions.",
   "metadata": {},
   "cell_type": "markdown",
   "id": "1d5ccd4d-53c9-4886-968b-6620dfc84a72"
  },
  {
   "source": "# Display the first few rows, the first 10 columns, and the last column of the training dataset\ntrain_df.iloc[:, np.r_[0:10, -1]].head()\n\n# Display the first few rows, the first 10 columns, and the last column of the testing dataset\ntest_df.iloc[:, np.r_[0:10, -1]].head()",
   "metadata": {
    "executionCancelledAt": null,
    "executionTime": null,
    "lastExecutedAt": null,
    "lastExecutedByKernel": null,
    "lastScheduledRunId": null,
    "lastSuccessfullyExecutedCode": null,
    "outputsMetadata": {
     "0": {
      "height": 211,
      "type": "dataFrame"
     },
     "1": {
      "height": 211,
      "type": "dataFrame"
     },
     "2": {
      "height": 196,
      "type": "dataFrame"
     }
    },
    "visualizeDataframe": false,
    "chartConfig": {
     "bar": {
      "hasRoundedCorners": true,
      "stacked": false
     },
     "type": "bar",
     "version": "v1"
    }
   },
   "id": "a9bb4b31-b1c9-45e2-a330-b4161942c2ba",
   "cell_type": "code",
   "execution_count": 16,
   "outputs": []
  },
  {
   "source": "Getting a sum from each data set for the race demographic:",
   "metadata": {},
   "cell_type": "markdown",
   "id": "f80a16b9-9c78-46ab-83e7-b94433c1af9d"
  },
  {
   "source": "# Sum of 'readmitted' values where 'race:AfricanAmerican' equals 1 for both training and testing datasets\ntrain_readmittedAA_sum = train_df[train_df['race:AfricanAmerican'] == 1]['readmitted'].sum()\ntest_readmittedAA_sum = test_df[test_df['race:AfricanAmerican'] == 1]['readmitted'].sum()\n\ntrain_readmittedAA_sum, test_readmittedAA_sum",
   "metadata": {
    "executionCancelledAt": null,
    "executionTime": 24,
    "lastExecutedAt": 1714003001035,
    "lastExecutedByKernel": "a37ddd8a-5bfd-42ae-8936-fc03b40c4785",
    "lastScheduledRunId": null,
    "lastSuccessfullyExecutedCode": "# Sum of 'readmitted' values where 'race:AfricanAmerican' equals 1 for both training and testing datasets\ntrain_readmittedAA_sum = train_df[train_df['race:AfricanAmerican'] == 1]['readmitted'].sum()\ntest_readmittedAA_sum = test_df[test_df['race:AfricanAmerican'] == 1]['readmitted'].sum()\n\ntrain_readmittedAA_sum, test_readmittedAA_sum"
   },
   "cell_type": "code",
   "id": "8429dee4-867b-466b-ba14-990dac0c98d2",
   "execution_count": 54,
   "outputs": []
  },
  {
   "source": "# Sum of 'readmitted' values where 'race:Asian' equals 1 for both training and testing datasets\ntrain_readmittedA_sum = train_df[train_df['race:Asian'] == 1]['readmitted'].sum()\ntest_readmittedA_sum = test_df[test_df['race:Asian'] == 1]['readmitted'].sum()\n\ntrain_readmittedA_sum, test_readmittedA_sum",
   "metadata": {
    "executionCancelledAt": null,
    "executionTime": 20,
    "lastExecutedAt": 1714003003332,
    "lastExecutedByKernel": "a37ddd8a-5bfd-42ae-8936-fc03b40c4785",
    "lastScheduledRunId": null,
    "lastSuccessfullyExecutedCode": "# Sum of 'readmitted' values where 'race:Asian' equals 1 for both training and testing datasets\ntrain_readmittedA_sum = train_df[train_df['race:Asian'] == 1]['readmitted'].sum()\ntest_readmittedA_sum = test_df[test_df['race:Asian'] == 1]['readmitted'].sum()\n\ntrain_readmittedA_sum, test_readmittedA_sum"
   },
   "cell_type": "code",
   "id": "68553629-d24e-41cc-9846-bd422cdead92",
   "execution_count": 55,
   "outputs": []
  },
  {
   "source": "# Sum of 'readmitted' values where 'race:Caucasian' equals 1 for both training and testing datasets\ntrain_readmittedC_sum = train_df[train_df['race:Caucasian'] == 1]['readmitted'].sum()\ntest_readmittedC_sum = test_df[test_df['race:Caucasian'] == 1]['readmitted'].sum()\n\ntrain_readmittedC_sum, test_readmittedC_sum",
   "metadata": {
    "executionCancelledAt": null,
    "executionTime": 32,
    "lastExecutedAt": 1714003004872,
    "lastExecutedByKernel": "a37ddd8a-5bfd-42ae-8936-fc03b40c4785",
    "lastScheduledRunId": null,
    "lastSuccessfullyExecutedCode": "# Sum of 'readmitted' values where 'race:Caucasian' equals 1 for both training and testing datasets\ntrain_readmittedC_sum = train_df[train_df['race:Caucasian'] == 1]['readmitted'].sum()\ntest_readmittedC_sum = test_df[test_df['race:Caucasian'] == 1]['readmitted'].sum()\n\ntrain_readmittedC_sum, test_readmittedC_sum"
   },
   "cell_type": "code",
   "id": "297fe205-4b00-4754-a980-94adc77f8a9f",
   "execution_count": 56,
   "outputs": []
  },
  {
   "source": "# Sum of 'readmitted' values where 'race:Hispanic' equals 1 for both training and testing datasets\ntrain_readmittedH_sum = train_df[train_df['race:Hispanic'] == 1]['readmitted'].sum()\ntest_readmittedH_sum = test_df[test_df['race:Hispanic'] == 1]['readmitted'].sum()\n\ntrain_readmittedH_sum, test_readmittedH_sum",
   "metadata": {
    "executionCancelledAt": null,
    "executionTime": 23,
    "lastExecutedAt": 1714003007076,
    "lastExecutedByKernel": "a37ddd8a-5bfd-42ae-8936-fc03b40c4785",
    "lastScheduledRunId": null,
    "lastSuccessfullyExecutedCode": "# Sum of 'readmitted' values where 'race:Hispanic' equals 1 for both training and testing datasets\ntrain_readmittedH_sum = train_df[train_df['race:Hispanic'] == 1]['readmitted'].sum()\ntest_readmittedH_sum = test_df[test_df['race:Hispanic'] == 1]['readmitted'].sum()\n\ntrain_readmittedH_sum, test_readmittedH_sum"
   },
   "cell_type": "code",
   "id": "18bb6d39-5c1e-4a6c-88f1-45ee3c5755d4",
   "execution_count": 57,
   "outputs": []
  },
  {
   "source": "# Sum of 'readmitted' values where 'race:Other' equals 1 for both training and testing datasets\ntrain_readmittedO_sum = train_df[train_df['race:Other'] == 1]['readmitted'].sum()\ntest_readmittedO_sum = test_df[test_df['race:Other'] == 1]['readmitted'].sum()\n\ntrain_readmittedO_sum, test_readmittedO_sum",
   "metadata": {
    "executionCancelledAt": null,
    "executionTime": 48,
    "lastExecutedAt": 1714003009121,
    "lastExecutedByKernel": "a37ddd8a-5bfd-42ae-8936-fc03b40c4785",
    "lastScheduledRunId": null,
    "lastSuccessfullyExecutedCode": "# Sum of 'readmitted' values where 'race:Other' equals 1 for both training and testing datasets\ntrain_readmittedO_sum = train_df[train_df['race:Other'] == 1]['readmitted'].sum()\ntest_readmittedO_sum = test_df[test_df['race:Other'] == 1]['readmitted'].sum()\n\ntrain_readmittedO_sum, test_readmittedO_sum"
   },
   "cell_type": "code",
   "id": "b9aa6b80-dca4-483f-84b6-3396ba9c5175",
   "execution_count": 58,
   "outputs": []
  },
  {
   "source": "import matplotlib.pyplot as plt\n\n# Sum of readmitted values for each race including the missing category\nsums = [train_readmittedA_sum + test_readmittedA_sum, \n        train_readmittedC_sum + test_readmittedC_sum,\n        train_readmittedH_sum + test_readmittedH_sum,\n        train_readmittedO_sum + test_readmittedO_sum,\n        train_readmittedAA_sum + test_readmittedAA_sum]  # Placeholder for the missing category sum\n\n# Labels for each race including the missing category\nlabels = ['Asian', 'Caucasian', 'Hispanic', 'Other', 'African American']  # Placeholder for the missing category label\n\n# Create pie chart\nplt.figure(figsize=(10, 7))\nplt.pie(sums, labels=labels, autopct='%1.1f%%', startangle=140)\nplt.title('Race Demographics of Readmitted Patients')\nplt.show()",
   "metadata": {
    "executionCancelledAt": null,
    "executionTime": 282,
    "lastExecutedAt": 1714003010625,
    "lastExecutedByKernel": "a37ddd8a-5bfd-42ae-8936-fc03b40c4785",
    "lastScheduledRunId": null,
    "lastSuccessfullyExecutedCode": "import matplotlib.pyplot as plt\n\n# Assuming there's a missing race category, let's call it 'African American' for demonstration.\n# You would replace 'train_readmittedAA_sum' and 'test_readmittedAA_sum' with the actual variables if they exist.\n# For demonstration, these variables are placeholders and should be replaced with actual sums for 'African American' or the missing race category.\n\n# Sum of readmitted values for each race including the missing category\nsums = [train_readmittedA_sum + test_readmittedA_sum, \n        train_readmittedC_sum + test_readmittedC_sum,\n        train_readmittedH_sum + test_readmittedH_sum,\n        train_readmittedO_sum + test_readmittedO_sum,\n        train_readmittedAA_sum + test_readmittedAA_sum]  # Placeholder for the missing category sum\n\n# Labels for each race including the missing category\nlabels = ['Asian', 'Caucasian', 'Hispanic', 'Other', 'African American']  # Placeholder for the missing category label\n\n# Create pie chart\nplt.figure(figsize=(10, 7))\nplt.pie(sums, labels=labels, autopct='%1.1f%%', startangle=140)\nplt.title('Race Demographics of Readmitted Patients')\nplt.show()"
   },
   "cell_type": "code",
   "id": "27d208a1-ebdb-4ea4-8483-14a3503212ce",
   "execution_count": 59,
   "outputs": []
  },
  {
   "source": "Getting a sum from each dataset for the gender demogrphic:",
   "metadata": {},
   "cell_type": "markdown",
   "id": "081cc566-8add-4d65-b5fd-b579a56ed5f5"
  },
  {
   "source": "# Sum of 'readmitted' values where 'gender:Female' equals 1 for both training and testing datasets\ntrain_readmittedF_sum = train_df[train_df['gender:Female'] == 1]['readmitted'].sum()\ntest_readmittedF_sum = test_df[test_df['gender:Female'] == 1]['readmitted'].sum()\n\ntrain_readmittedF_sum, test_readmittedF_sum",
   "metadata": {
    "executionCancelledAt": null,
    "executionTime": 47,
    "lastExecutedAt": 1713999816361,
    "lastExecutedByKernel": "a37ddd8a-5bfd-42ae-8936-fc03b40c4785",
    "lastScheduledRunId": null,
    "lastSuccessfullyExecutedCode": "# Sum of 'readmitted' values where 'gender:Female' equals 1 for both training and testing datasets\ntrain_readmittedF_sum = train_df[train_df['gender:Female'] == 1]['readmitted'].sum()\ntest_readmittedF_sum = test_df[test_df['gender:Female'] == 1]['readmitted'].sum()\n\ntrain_readmittedF_sum, test_readmittedF_sum"
   },
   "cell_type": "code",
   "id": "a1cac401-c37e-4e04-a1d2-009969729013",
   "execution_count": 9,
   "outputs": []
  },
  {
   "source": "# Sum of 'readmitted' values where 'gender:Male' equals 1 for both training and testing datasets\ntrain_readmittedM_sum = train_df[train_df['gender:Male'] == 1]['readmitted'].sum()\ntest_readmittedM_sum = test_df[test_df['gender:Male'] == 1]['readmitted'].sum()\n\ntrain_readmittedM_sum, test_readmittedM_sum",
   "metadata": {
    "executionCancelledAt": null,
    "executionTime": 52,
    "lastExecutedAt": 1713999816414,
    "lastExecutedByKernel": "a37ddd8a-5bfd-42ae-8936-fc03b40c4785",
    "lastScheduledRunId": null,
    "lastSuccessfullyExecutedCode": "# Sum of 'readmitted' values where 'gender:Male' equals 1 for both training and testing datasets\ntrain_readmittedM_sum = train_df[train_df['gender:Male'] == 1]['readmitted'].sum()\ntest_readmittedM_sum = test_df[test_df['gender:Male'] == 1]['readmitted'].sum()\n\ntrain_readmittedM_sum, test_readmittedM_sum"
   },
   "cell_type": "code",
   "id": "f541a4b8-3356-4b82-b190-1442074437a7",
   "execution_count": 10,
   "outputs": []
  },
  {
   "source": "import matplotlib.pyplot as plt\n\n# Sum of readmitted values for both genders in both datasets\ntotal_readmittedF = train_readmittedF_sum + test_readmittedF_sum\ntotal_readmittedM = train_readmittedM_sum + test_readmittedM_sum\n\n# Labels for the sections of our pie chart\nlabels = 'Female', 'Male'\n\n# The values for each section of the pie chart\nsizes = [total_readmittedF, total_readmittedM]\n\n# The colors for each section of the pie chart\ncolors = ['#ff9999','#66b3ff']\n\n# Plotting the pie chart\nplt.figure(figsize=(8, 6))\nplt.pie(sizes, labels=labels, colors=colors, autopct='%1.1f%%', startangle=90)\nplt.axis('equal')  # Equal aspect ratio ensures that pie is drawn as a circle.\nplt.title('Gender Demographics of Readmitted Patients')\nplt.show()",
   "metadata": {
    "executionCancelledAt": null,
    "executionTime": 185,
    "lastExecutedAt": 1713999816599,
    "lastExecutedByKernel": "a37ddd8a-5bfd-42ae-8936-fc03b40c4785",
    "lastScheduledRunId": null,
    "lastSuccessfullyExecutedCode": "import matplotlib.pyplot as plt\n\n# Sum of readmitted values for both genders in both datasets\ntotal_readmittedF = train_readmittedF_sum + test_readmittedF_sum\ntotal_readmittedM = train_readmittedM_sum + test_readmittedM_sum\n\n# Labels for the sections of our pie chart\nlabels = 'Female', 'Male'\n\n# The values for each section of the pie chart\nsizes = [total_readmittedF, total_readmittedM]\n\n# The colors for each section of the pie chart\ncolors = ['#ff9999','#66b3ff']\n\n# Plotting the pie chart\nplt.figure(figsize=(8, 6))\nplt.pie(sizes, labels=labels, colors=colors, autopct='%1.1f%%', startangle=90)\nplt.axis('equal')  # Equal aspect ratio ensures that pie is drawn as a circle.\nplt.title('Gender Demographics of Readmitted Patients')\nplt.show()"
   },
   "cell_type": "code",
   "id": "a96d9d37-7ed7-4a2b-9e77-df5f24a5db20",
   "execution_count": 11,
   "outputs": []
  },
  {
   "source": "The percentages amongst the gender demographic to not different signficantly to be considered a factor as signficant. ",
   "metadata": {},
   "cell_type": "markdown",
   "id": "1844b201-0bd4-47d5-b23e-590f349dadad"
  },
  {
   "source": "Getting a sum from each dataset for the age demogrphic:",
   "metadata": {},
   "cell_type": "markdown",
   "id": "f4d0550c-03ba-4635-94f4-ed766326f4e1"
  },
  {
   "source": "# Sum of 'readmitted' values where 'age:70+' equals 1 for both training and testing datasets\ntrain_readmitted70plus_sum = train_df[train_df['age:70+'] == 1]['readmitted'].sum()\ntest_readmitted70plus_sum = test_df[test_df['age:70+'] == 1]['readmitted'].sum()\n\ntrain_readmitted70plus_sum, test_readmitted70plus_sum",
   "metadata": {
    "executionCancelledAt": null,
    "executionTime": 51,
    "lastExecutedAt": 1713999816650,
    "lastExecutedByKernel": "a37ddd8a-5bfd-42ae-8936-fc03b40c4785",
    "lastScheduledRunId": null,
    "lastSuccessfullyExecutedCode": "# Sum of 'readmitted' values where 'age:70+' equals 1 for both training and testing datasets\ntrain_readmitted70plus_sum = train_df[train_df['age:70+'] == 1]['readmitted'].sum()\ntest_readmitted70plus_sum = test_df[test_df['age:70+'] == 1]['readmitted'].sum()\n\ntrain_readmitted70plus_sum, test_readmitted70plus_sum"
   },
   "cell_type": "code",
   "id": "3fa3d75e-183e-4b87-a951-b13b644308e4",
   "execution_count": 12,
   "outputs": []
  },
  {
   "source": "# Sum of 'readmitted' values where 'age:[0-10)' equals 1 for both training and testing datasets\ntrain_readmittedLess10_sum = train_df[train_df['age:[0-10)'] == 1]['readmitted'].sum()\ntest_readmittedLess10_sum = test_df[test_df['age:[0-10)'] == 1]['readmitted'].sum()\n\ntrain_readmittedLess10_sum, test_readmittedLess10_sum",
   "metadata": {
    "executionCancelledAt": null,
    "executionTime": 52,
    "lastExecutedAt": 1713999816702,
    "lastExecutedByKernel": "a37ddd8a-5bfd-42ae-8936-fc03b40c4785",
    "lastScheduledRunId": null,
    "lastSuccessfullyExecutedCode": "# Sum of 'readmitted' values where 'age:[0-10)' equals 1 for both training and testing datasets\ntrain_readmittedLess10_sum = train_df[train_df['age:[0-10)'] == 1]['readmitted'].sum()\ntest_readmittedLess10_sum = test_df[test_df['age:[0-10)'] == 1]['readmitted'].sum()\n\ntrain_readmittedLess10_sum, test_readmittedLess10_sum"
   },
   "cell_type": "code",
   "id": "b790b5d5-6335-4c4a-8ddb-cf2e2ff5889e",
   "execution_count": 13,
   "outputs": []
  },
  {
   "source": "# Sum of 'readmitted' values where 'age:[10-20)' equals 1 for both training and testing datasets\ntrain_readmitted10to19_sum = train_df[train_df['age:[10-20)'] == 1]['readmitted'].sum()\ntest_readmitted10to19_sum = test_df[test_df['age:[10-20)'] == 1]['readmitted'].sum()\n\ntrain_readmitted10to19_sum, test_readmitted10to19_sum",
   "metadata": {
    "executionCancelledAt": null,
    "executionTime": 52,
    "lastExecutedAt": 1713999816754,
    "lastExecutedByKernel": "a37ddd8a-5bfd-42ae-8936-fc03b40c4785",
    "lastScheduledRunId": null,
    "lastSuccessfullyExecutedCode": "# Sum of 'readmitted' values where 'age:[10-20)' equals 1 for both training and testing datasets\ntrain_readmitted10to19_sum = train_df[train_df['age:[10-20)'] == 1]['readmitted'].sum()\ntest_readmitted10to19_sum = test_df[test_df['age:[10-20)'] == 1]['readmitted'].sum()\n\ntrain_readmitted10to19_sum, test_readmitted10to19_sum"
   },
   "cell_type": "code",
   "id": "d1dd6058-58b2-4a3e-b91e-bb0b203191cb",
   "execution_count": 14,
   "outputs": []
  },
  {
   "source": "# Sum of 'readmitted' values where 'age:[20-50)' equals 1 for both training and testing datasets\ntrain_readmitted20to49_sum = train_df[train_df['age:[20-50)'] == 1]['readmitted'].sum()\ntest_readmitted20to49_sum = test_df[test_df['age:[20-50)'] == 1]['readmitted'].sum()\n\ntrain_readmitted20to49_sum, test_readmitted20to49_sum",
   "metadata": {
    "executionCancelledAt": null,
    "executionTime": 58,
    "lastExecutedAt": 1713999816812,
    "lastExecutedByKernel": "a37ddd8a-5bfd-42ae-8936-fc03b40c4785",
    "lastScheduledRunId": null,
    "lastSuccessfullyExecutedCode": "# Sum of 'readmitted' values where 'age:[20-50)' equals 1 for both training and testing datasets\ntrain_readmitted20to49_sum = train_df[train_df['age:[20-50)'] == 1]['readmitted'].sum()\ntest_readmitted20to49_sum = test_df[test_df['age:[20-50)'] == 1]['readmitted'].sum()\n\ntrain_readmitted20to49_sum, test_readmitted20to49_sum"
   },
   "cell_type": "code",
   "id": "3e45a0f2-3043-46f4-80ac-c367a7ab3e5d",
   "execution_count": 15,
   "outputs": []
  },
  {
   "source": "# Sum of 'readmitted' values where 'age:[50-70)' equals 1 for both training and testing datasets\ntrain_readmitted50to69_sum = train_df[train_df['age:[50-70)'] == 1]['readmitted'].sum()\ntest_readmitted50to69_sum = test_df[test_df['age:[50-70)'] == 1]['readmitted'].sum()\n\ntrain_readmitted50to69_sum, test_readmitted50to69_sum",
   "metadata": {
    "executionCancelledAt": null,
    "executionTime": 49,
    "lastExecutedAt": 1713999816861,
    "lastExecutedByKernel": "a37ddd8a-5bfd-42ae-8936-fc03b40c4785",
    "lastScheduledRunId": null,
    "lastSuccessfullyExecutedCode": "# Sum of 'readmitted' values where 'age:[50-70)' equals 1 for both training and testing datasets\ntrain_readmitted50to69_sum = train_df[train_df['age:[50-70)'] == 1]['readmitted'].sum()\ntest_readmitted50to69_sum = test_df[test_df['age:[50-70)'] == 1]['readmitted'].sum()\n\ntrain_readmitted50to69_sum, test_readmitted50to69_sum"
   },
   "cell_type": "code",
   "id": "18770aaf-11aa-4260-ae08-7f73ba6f19b2",
   "execution_count": 16,
   "outputs": []
  },
  {
   "source": "import matplotlib.pyplot as plt\n\n# Assuming the sums for the 70+ demographic have been calculated as follows:\n# train_readmitted70plus_sum = train_df[train_df['age:[70+)'] == 1]['readmitted'].sum()\n# test_readmitted70plus_sum = test_df[test_df['age:[70+)'] == 1]['readmitted'].sum()\n\n# Update the age_demographics_sums list to include the 70+ demographic\n#combining the 0-10 and 10-20 age groups because their percentages do not have a significant difference between them\nage_demographics_sums = [\n    train_readmittedLess10_sum + test_readmittedLess10_sum + train_readmitted10to19_sum + test_readmitted10to19_sum, \n    train_readmitted20to49_sum + test_readmitted20to49_sum,\n    train_readmitted50to69_sum + test_readmitted50to69_sum,\n    train_readmitted70plus_sum + test_readmitted70plus_sum  # Updated to include the 70+ demographic\n]\n\nage_labels = ['0-20', '20-50', '50-70', '70+']\n\nplt.figure(figsize=(10, 7))\nplt.pie(age_demographics_sums, labels=age_labels, autopct='%1.1f%%')\nplt.title('Pie Chart of Age Demographics Readmitted')\nplt.show()",
   "metadata": {
    "executionCancelledAt": null,
    "executionTime": 223,
    "lastExecutedAt": 1713999817085,
    "lastExecutedByKernel": "a37ddd8a-5bfd-42ae-8936-fc03b40c4785",
    "lastScheduledRunId": null,
    "lastSuccessfullyExecutedCode": "import matplotlib.pyplot as plt\n\n# Assuming the sums for the 70+ demographic have been calculated as follows:\n# train_readmitted70plus_sum = train_df[train_df['age:[70+)'] == 1]['readmitted'].sum()\n# test_readmitted70plus_sum = test_df[test_df['age:[70+)'] == 1]['readmitted'].sum()\n\n# Update the age_demographics_sums list to include the 70+ demographic\nage_demographics_sums = [\n    train_readmittedLess10_sum + test_readmittedLess10_sum + train_readmitted10to19_sum + test_readmitted10to19_sum,\n    train_readmitted20to49_sum + test_readmitted20to49_sum,\n    train_readmitted50to69_sum + test_readmitted50to69_sum,\n    train_readmitted70plus_sum + test_readmitted70plus_sum  # Updated to include the 70+ demographic\n]\n\nage_labels = ['0-20', '20-50', '50-70', '70+']\n\nplt.figure(figsize=(10, 7))\nplt.pie(age_demographics_sums, labels=age_labels, autopct='%1.1f%%')\nplt.title('Pie Chart of Age Demographics Readmitted')\nplt.show()"
   },
   "cell_type": "code",
   "id": "01695a12-31bd-4463-ac84-89aaa6210e00",
   "execution_count": 17,
   "outputs": []
  },
  {
   "source": "From this chart, we can see that individuals 50 and older tend to have higher readmission rates. ",
   "metadata": {},
   "cell_type": "markdown",
   "id": "f6521801-9585-4c36-8f38-1fa164f4f518"
  },
  {
   "source": "# **Treatment and Testing Variables**\nWhat role do the number of lab tests performed during the stay, changes in medication, and the results of HbA1c tests play in predicting readmissions?",
   "metadata": {},
   "cell_type": "markdown",
   "id": "f954a0dc-df80-477c-a892-95c3b54ed875"
  },
  {
   "source": "from sklearn.model_selection import train_test_split\nfrom sklearn.ensemble import RandomForestClassifier\nfrom sklearn.metrics import classification_report, accuracy_score\n\n# Prepare the dataset for modeling\nX = train_df.drop('readmitted', axis=1)  # Features\ny = train_df['readmitted'].apply(lambda x: 1 if x == 'Yes' else 0)  # Target variable\n\n# Split the data into training and testing sets\nX_train, X_test, y_train, y_test = train_test_split(X, y, test_size=0.2, random_state=42)\n\n# Initialize the Random Forest Classifier\nrf_classifier = RandomForestClassifier(n_estimators=100, random_state=42)\n\n# Train the model\nrf_classifier.fit(X_train, y_train)\n\n# Make predictions\ny_pred = rf_classifier.predict(X_test)\n\n# Evaluate the model\naccuracy = accuracy_score(y_test, y_pred)\nreport = classification_report(y_test, y_pred)\n\n# Feature importance\nfeature_importances = rf_classifier.feature_importances_\n\n# Create a dataframe to display feature importance\nfeature_importance_df = pd.DataFrame({'Feature': X.columns, 'Importance': feature_importances})\nfeature_importance_df = feature_importance_df.sort_values(by='Importance', ascending=False)\n\n# Output the model evaluation and feature importance\naccuracy, report, feature_importance_df.head(10)",
   "metadata": {
    "executionCancelledAt": null,
    "executionTime": 758,
    "lastExecutedAt": 1714001068782,
    "lastExecutedByKernel": "a37ddd8a-5bfd-42ae-8936-fc03b40c4785",
    "lastScheduledRunId": null,
    "lastSuccessfullyExecutedCode": "from sklearn.model_selection import train_test_split\nfrom sklearn.ensemble import RandomForestClassifier\nfrom sklearn.metrics import classification_report, accuracy_score\n\n# Prepare the dataset for modeling\nX = train_df.drop('readmitted', axis=1)  # Features\ny = train_df['readmitted'].apply(lambda x: 1 if x == 'Yes' else 0)  # Target variable\n\n# Split the data into training and testing sets\nX_train, X_test, y_train, y_test = train_test_split(X, y, test_size=0.2, random_state=42)\n\n# Initialize the Random Forest Classifier\nrf_classifier = RandomForestClassifier(n_estimators=100, random_state=42)\n\n# Train the model\nrf_classifier.fit(X_train, y_train)\n\n# Make predictions\ny_pred = rf_classifier.predict(X_test)\n\n# Evaluate the model\naccuracy = accuracy_score(y_test, y_pred)\nreport = classification_report(y_test, y_pred)\n\n# Feature importance\nfeature_importances = rf_classifier.feature_importances_\n\n# Create a dataframe to display feature importance\nfeature_importance_df = pd.DataFrame({'Feature': X.columns, 'Importance': feature_importances})\nfeature_importance_df = feature_importance_df.sort_values(by='Importance', ascending=False)\n\n# Output the model evaluation and feature importance\naccuracy, report, feature_importance_df.head(10)"
   },
   "cell_type": "code",
   "id": "a8cbc9f2-4860-4ea8-b965-345680c86c36",
   "execution_count": 26,
   "outputs": []
  },
  {
   "source": "## **Number of lab tests performed during the stay**",
   "metadata": {},
   "cell_type": "markdown",
   "id": "b2c31d84-8bbb-40be-838c-367048b9dede"
  },
  {
   "source": "",
   "metadata": {
    "executionCancelledAt": null,
    "executionTime": 46,
    "lastExecutedAt": 1714000921265,
    "lastExecutedByKernel": "a37ddd8a-5bfd-42ae-8936-fc03b40c4785",
    "lastScheduledRunId": null,
    "lastSuccessfullyExecutedCode": ""
   },
   "cell_type": "code",
   "id": "a7734309-d8d8-4830-a56f-5ace010fad03",
   "execution_count": 21,
   "outputs": []
  },
  {
   "source": "## **Changes in medication**",
   "metadata": {},
   "cell_type": "markdown",
   "id": "d980128b-57dd-4e3d-a94a-79f4efe5c30c"
  },
  {
   "source": "## **HbA1c test results**",
   "metadata": {},
   "cell_type": "markdown",
   "id": "fa8ab45a-103d-4e5d-bc27-268a8475d9b3"
  },
  {
   "source": "# **Healthcare Utilization and Outcomes**\nHow do the number of emergency visits, inpatient stays, and outpatient visits in the year prior to the hospitalization correlate with readmission rates?",
   "metadata": {},
   "cell_type": "markdown",
   "id": "b037a3d8-ddf1-4c90-83bc-5847fcec7d2d"
  },
  {
   "source": "",
   "metadata": {},
   "cell_type": "code",
   "id": "363d4e0d-cac8-4c97-8e86-457729fcf7df",
   "execution_count": null,
   "outputs": []
  },
  {
   "source": "import seaborn as sns\nimport matplotlib.pyplot as plt\n\n# Set the aesthetic style of the plots\nsns.set_style(\"whitegrid\")\n\n# Create box and whisker plots to visualize the relationships\nplt.figure(figsize=(18, 6))\n\nplt.subplot(1, 3, 1)\nsns.boxplot(x='readmitted', y='number_emergency', data=train_df, palette=\"muted\")\nplt.title('Emergency Visits vs. Readmission')\n\nplt.subplot(1, 3, 2)\nsns.boxplot(x='readmitted', y='number_outpatient', data=train_df, palette=\"muted\")\nplt.title('Outpatient Visits vs. Readmission')\n\nplt.subplot(1, 3, 3)\nsns.boxplot(x='readmitted', y='number_inpatient', data=train_df, palette=\"muted\")\nplt.title('Inpatient Visits vs. Readmission')\n\nplt.show()",
   "metadata": {
    "executionCancelledAt": null,
    "executionTime": 814,
    "lastExecutedAt": 1714002630232,
    "lastExecutedByKernel": "a37ddd8a-5bfd-42ae-8936-fc03b40c4785",
    "lastScheduledRunId": null,
    "lastSuccessfullyExecutedCode": "import seaborn as sns\nimport matplotlib.pyplot as plt\n\n# Set the aesthetic style of the plots\nsns.set_style(\"whitegrid\")\n\n# Create box and whisker plots to visualize the relationships\nplt.figure(figsize=(18, 6))\n\nplt.subplot(1, 3, 1)\nsns.boxplot(x='readmitted', y='number_emergency', data=train_df, palette=\"muted\")\nplt.title('Emergency Visits vs. Readmission')\n\nplt.subplot(1, 3, 2)\nsns.boxplot(x='readmitted', y='number_outpatient', data=train_df, palette=\"muted\")\nplt.title('Outpatient Visits vs. Readmission')\n\nplt.subplot(1, 3, 3)\nsns.boxplot(x='readmitted', y='number_inpatient', data=train_df, palette=\"muted\")\nplt.title('Inpatient Visits vs. Readmission')\n\nplt.show()",
    "outputsMetadata": {
     "0": {
      "height": 17,
      "type": "plotly"
     },
     "1": {
      "height": 17,
      "type": "plotly"
     },
     "2": {
      "height": 17,
      "type": "plotly"
     }
    }
   },
   "cell_type": "code",
   "id": "c95b1568-8e41-47a0-8124-9bf04ca130fc",
   "execution_count": 45,
   "outputs": []
  },
  {
   "source": "Since the vast majority of people didn't have any emergency visits, outpatient visits, or inpatient visits, lets remove them from the plots.",
   "metadata": {},
   "cell_type": "markdown",
   "id": "132d8688-4852-4c8d-8cf2-779c6efb4397"
  },
  {
   "source": "import seaborn as sns\nimport matplotlib.pyplot as plt\n\n# Set the aesthetic style of the plots\nsns.set_style(\"whitegrid\")\n\n# Create box and whisker plots to visualize the relationships without showing outliers\nplt.figure(figsize=(18, 12))\n\ncleaned_data = train_df[['number_emergency', 'number_outpatient', 'number_inpatient', 'readmitted']].copy()\n\ncleaned_data = cleaned_data[cleaned_data['number_emergency'] > 0]\ncleaned_data = cleaned_data[cleaned_data['number_outpatient'] > 0]\ncleaned_data = cleaned_data[cleaned_data['number_inpatient'] > 0]\n\n\nplt.subplot(2, 3, 1)\nsns.boxplot(x='readmitted', y='number_emergency', data=cleaned_data, palette=\"muted\")\nplt.title('Emergency Visits vs. Readmission')\n\nplt.subplot(2, 3, 2)\nsns.boxplot(x='readmitted', y='number_outpatient', data=cleaned_data, palette=\"muted\")\nplt.title('Outpatient Visits vs. Readmission')\n\nplt.subplot(2, 3, 3)\nsns.boxplot(x='readmitted', y='number_inpatient', data=cleaned_data, palette=\"muted\")\nplt.title('Inpatient Visits vs. Readmission')\n\nplt.subplot(2, 3, 4)\nsns.boxplot(x='readmitted', y='number_emergency', data=cleaned_data, palette=\"muted\", showfliers=False)\nplt.title('Emergency Visits vs. Readmission (Outliers Removed)')\n\nplt.subplot(2, 3, 5)\nsns.boxplot(x='readmitted', y='number_outpatient', data=cleaned_data, palette=\"muted\", showfliers=False)\nplt.title('Outpatient Visits vs. Readmission (Outliers Removed)')\n\nplt.subplot(2, 3, 6)\nsns.boxplot(x='readmitted', y='number_inpatient', data=cleaned_data, palette=\"muted\", showfliers=False)\nplt.title('Inpatient Visits vs. Readmission (Outliers Removed)')\n\nplt.show()",
   "metadata": {
    "executionCancelledAt": null,
    "executionTime": 1223,
    "lastExecutedAt": 1714003474605,
    "lastExecutedByKernel": "a37ddd8a-5bfd-42ae-8936-fc03b40c4785",
    "lastScheduledRunId": null,
    "lastSuccessfullyExecutedCode": "import seaborn as sns\nimport matplotlib.pyplot as plt\n\n# Set the aesthetic style of the plots\nsns.set_style(\"whitegrid\")\n\n# Create box and whisker plots to visualize the relationships without showing outliers\nplt.figure(figsize=(18, 12))\n\ncleaned_data = train_df[['number_emergency', 'number_outpatient', 'number_inpatient', 'readmitted']].copy()\n\ncleaned_data = cleaned_data[cleaned_data['number_emergency'] > 0]\ncleaned_data = cleaned_data[cleaned_data['number_outpatient'] > 0]\ncleaned_data = cleaned_data[cleaned_data['number_inpatient'] > 0]\n\n\nplt.subplot(2, 3, 1)\nsns.boxplot(x='readmitted', y='number_emergency', data=cleaned_data, palette=\"muted\")\nplt.title('Emergency Visits vs. Readmission')\n\nplt.subplot(2, 3, 2)\nsns.boxplot(x='readmitted', y='number_outpatient', data=cleaned_data, palette=\"muted\")\nplt.title('Outpatient Visits vs. Readmission')\n\nplt.subplot(2, 3, 3)\nsns.boxplot(x='readmitted', y='number_inpatient', data=cleaned_data, palette=\"muted\")\nplt.title('Inpatient Visits vs. Readmission')\n\nplt.subplot(2, 3, 4)\nsns.boxplot(x='readmitted', y='number_emergency', data=cleaned_data, palette=\"muted\", showfliers=False)\nplt.title('Emergency Visits vs. Readmission (Outliers Removed)')\n\nplt.subplot(2, 3, 5)\nsns.boxplot(x='readmitted', y='number_outpatient', data=cleaned_data, palette=\"muted\", showfliers=False)\nplt.title('Outpatient Visits vs. Readmission (Outliers Removed)')\n\nplt.subplot(2, 3, 6)\nsns.boxplot(x='readmitted', y='number_inpatient', data=cleaned_data, palette=\"muted\", showfliers=False)\nplt.title('Inpatient Visits vs. Readmission (Outliers Removed)')\n\nplt.show()"
   },
   "cell_type": "code",
   "id": "981c95bf-8d2d-436a-848f-038677b7da16",
   "execution_count": 69,
   "outputs": []
  },
  {
   "source": "So, for the people who did have either inpatient, outpatient, or emergency visits, these visits don't seem to have much correlation with being readmitted.",
   "metadata": {},
   "cell_type": "markdown",
   "id": "16e5ea2a-1030-4b82-be9a-589f700c32b4"
  },
  {
   "source": "train_df['number_outpatient'].describe()",
   "metadata": {
    "executionCancelledAt": null,
    "executionTime": 21,
    "lastExecutedAt": 1714002828077,
    "lastExecutedByKernel": "a37ddd8a-5bfd-42ae-8936-fc03b40c4785",
    "lastScheduledRunId": null,
    "lastSuccessfullyExecutedCode": "train_df['number_outpatient'].describe()",
    "outputsMetadata": {
     "0": {
      "height": 271,
      "type": "dataFrame"
     }
    }
   },
   "cell_type": "code",
   "id": "36cd3978-01bb-4efe-9308-d9ea60901726",
   "execution_count": 50,
   "outputs": []
  },
  {
   "source": "import plotly.graph_objects as go\n\n# Aggregate data for visualization\nagg_lab = data_for_visualization.groupby(['num_lab_procedures', 'readmitted']).size().reset_index(name='count')\nagg_med = data_for_visualization.groupby(['num_medications', 'readmitted']).size().reset_index(name='count')\n\n# Create bar plots to visualize the relationships more effectively\n# Lab Procedures vs. Readmission\nfig_lab = go.Figure()\nfor readmitted_status in agg_lab['readmitted'].unique():\n    filtered_data = agg_lab[agg_lab['readmitted'] == readmitted_status]\n    fig_lab.add_trace(go.Bar(x=filtered_data['num_lab_procedures'], y=filtered_data['count'], name=f'Readmitted: {readmitted_status}'))\n\nfig_lab.update_layout(title='Lab Procedures vs. Readmission', xaxis_title='Number of Lab Procedures', yaxis_title='Count', barmode='group')\n\n# Medications vs. Readmission\nfig_med = go.Figure()\nfor readmitted_status in agg_med['readmitted'].unique():\n    filtered_data = agg_med[agg_med['readmitted'] == readmitted_status]\n    fig_med.add_trace(go.Bar(x=filtered_data['num_medications'], y=filtered_data['count'], name=f'Readmitted: {readmitted_status}'))\n\nfig_med.update_layout(title='Medications vs. Readmission', xaxis_title='Number of Medications', yaxis_title='Count', barmode='group')\n\n# For the HbA1c results, we can use a bar plot to show the count of readmitted vs. not-readmitted for each A1Cresult_combined category\nagg_hba1c = data_for_visualization.groupby(['A1Cresult_combined', 'readmitted']).size().reset_index(name='count')\nfig_hba1c = go.Figure()\nfor readmitted_status in agg_hba1c['readmitted'].unique():\n    filtered_data = agg_hba1c[agg_hba1c['readmitted'] == readmitted_status]\n    fig_hba1c.add_trace(go.Bar(x=filtered_data['A1Cresult_combined'], y=filtered_data['count'], name=f'Readmitted: {readmitted_status}'))\n\nfig_hba1c.update_layout(title='HbA1c Test Results vs. Readmission', xaxis_title='A1C Result Combined', yaxis_title='Count', barmode='group')\n\nfig_lab.show()\nfig_med.show()\nfig_hba1c.show()",
   "metadata": {
    "executionCancelledAt": null,
    "executionTime": 176,
    "lastExecutedAt": 1714002736264,
    "lastExecutedByKernel": "a37ddd8a-5bfd-42ae-8936-fc03b40c4785",
    "lastScheduledRunId": null,
    "lastSuccessfullyExecutedCode": "import plotly.graph_objects as go\n\n# Aggregate data for visualization\nagg_lab = data_for_visualization.groupby(['num_lab_procedures', 'readmitted']).size().reset_index(name='count')\nagg_med = data_for_visualization.groupby(['num_medications', 'readmitted']).size().reset_index(name='count')\n\n# Create bar plots to visualize the relationships more effectively\n# Lab Procedures vs. Readmission\nfig_lab = go.Figure()\nfor readmitted_status in agg_lab['readmitted'].unique():\n    filtered_data = agg_lab[agg_lab['readmitted'] == readmitted_status]\n    fig_lab.add_trace(go.Bar(x=filtered_data['num_lab_procedures'], y=filtered_data['count'], name=f'Readmitted: {readmitted_status}'))\n\nfig_lab.update_layout(title='Lab Procedures vs. Readmission', xaxis_title='Number of Lab Procedures', yaxis_title='Count', barmode='group')\n\n# Medications vs. Readmission\nfig_med = go.Figure()\nfor readmitted_status in agg_med['readmitted'].unique():\n    filtered_data = agg_med[agg_med['readmitted'] == readmitted_status]\n    fig_med.add_trace(go.Bar(x=filtered_data['num_medications'], y=filtered_data['count'], name=f'Readmitted: {readmitted_status}'))\n\nfig_med.update_layout(title='Medications vs. Readmission', xaxis_title='Number of Medications', yaxis_title='Count', barmode='group')\n\n# For the HbA1c results, we can use a bar plot to show the count of readmitted vs. not-readmitted for each A1Cresult_combined category\nagg_hba1c = data_for_visualization.groupby(['A1Cresult_combined', 'readmitted']).size().reset_index(name='count')\nfig_hba1c = go.Figure()\nfor readmitted_status in agg_hba1c['readmitted'].unique():\n    filtered_data = agg_hba1c[agg_hba1c['readmitted'] == readmitted_status]\n    fig_hba1c.add_trace(go.Bar(x=filtered_data['A1Cresult_combined'], y=filtered_data['count'], name=f'Readmitted: {readmitted_status}'))\n\nfig_hba1c.update_layout(title='HbA1c Test Results vs. Readmission', xaxis_title='A1C Result Combined', yaxis_title='Count', barmode='group')\n\nfig_lab.show()\nfig_med.show()\nfig_hba1c.show()",
    "outputsMetadata": {
     "0": {
      "height": 17,
      "type": "plotly"
     },
     "1": {
      "height": 17,
      "type": "plotly"
     },
     "2": {
      "height": 17,
      "type": "plotly"
     },
     "3": {
      "height": 17,
      "type": "plotly"
     },
     "4": {
      "height": 17,
      "type": "plotly"
     },
     "5": {
      "height": 17,
      "type": "plotly"
     },
     "6": {
      "height": 17,
      "type": "plotly"
     },
     "7": {
      "height": 17,
      "type": "plotly"
     },
     "8": {
      "height": 17,
      "type": "plotly"
     },
     "9": {
      "height": 17,
      "type": "plotly"
     },
     "10": {
      "height": 17,
      "type": "plotly"
     },
     "11": {
      "height": 17,
      "type": "plotly"
     }
    }
   },
   "cell_type": "code",
   "id": "5d96589c-8581-4a90-a746-bebcbc6d1278",
   "execution_count": 48,
   "outputs": []
  },
  {
   "source": "from sklearn.model_selection import train_test_split\nfrom sklearn.linear_model import LinearRegression\nfrom sklearn.metrics import mean_squared_error, r2_score\nimport pandas as pd\n\n# Preparing the data\nX = data_for_visualization.drop('readmitted', axis=1)\n# Converting categorical data into dummy/indicator variables\nX = pd.get_dummies(X, drop_first=True)\ny = data_for_visualization['readmitted']\n\n# Splitting the dataset into training and testing sets\nX_train, X_test, y_train, y_test = train_test_split(X, y, test_size=0.2, random_state=42)\n\n# Creating a linear regression model\nmodel = LinearRegression()\n\n# Fitting the model\nmodel.fit(X_train, y_train)\n\n# Predicting the test set results\ny_pred = model.predict(X_test)\n\n# Evaluating the model\nmse = mean_squared_error(y_test, y_pred)\nr2 = r2_score(y_test, y_pred)\n\n# Getting the feature importance (coefficients in case of Linear Regression)\nfeature_importance = pd.DataFrame(model.coef_, X.columns, columns=['Coefficient'])\n\n# Displaying the model\nprint(\"Linear Regression Model:\")\nprint(\"Intercept:\", model.intercept_)\nprint(\"Coefficients:\")\nprint(feature_importance)\n\n# Displaying the evaluation metrics\nprint(\"Mean Squared Error:\", mse)\nprint(\"R^2 Score:\", r2)",
   "metadata": {
    "executionCancelledAt": null,
    "executionTime": 113,
    "lastExecutedAt": 1714003493752,
    "lastExecutedByKernel": "a37ddd8a-5bfd-42ae-8936-fc03b40c4785",
    "lastScheduledRunId": null,
    "lastSuccessfullyExecutedCode": "from sklearn.model_selection import train_test_split\nfrom sklearn.linear_model import LinearRegression\nfrom sklearn.metrics import mean_squared_error, r2_score\nimport pandas as pd\n\n# Preparing the data\nX = data_for_visualization.drop('readmitted', axis=1)\n# Converting categorical data into dummy/indicator variables\nX = pd.get_dummies(X, drop_first=True)\ny = data_for_visualization['readmitted']\n\n# Splitting the dataset into training and testing sets\nX_train, X_test, y_train, y_test = train_test_split(X, y, test_size=0.2, random_state=42)\n\n# Creating a linear regression model\nmodel = LinearRegression()\n\n# Fitting the model\nmodel.fit(X_train, y_train)\n\n# Predicting the test set results\ny_pred = model.predict(X_test)\n\n# Evaluating the model\nmse = mean_squared_error(y_test, y_pred)\nr2 = r2_score(y_test, y_pred)\n\n# Getting the feature importance (coefficients in case of Linear Regression)\nfeature_importance = pd.DataFrame(model.coef_, X.columns, columns=['Coefficient'])\n\n# Displaying the model\nprint(\"Linear Regression Model:\")\nprint(\"Intercept:\", model.intercept_)\nprint(\"Coefficients:\")\nprint(feature_importance)\n\n# Displaying the evaluation metrics\nprint(\"Mean Squared Error:\", mse)\nprint(\"R^2 Score:\", r2)",
    "outputsMetadata": {
     "1": {
      "height": 248,
      "type": "stream"
     }
    }
   },
   "cell_type": "code",
   "id": "5e7b7726-8acd-4c29-a657-bd01e63ece2e",
   "execution_count": 70,
   "outputs": []
  }
 ],
 "metadata": {
  "colab": {
   "name": "Welcome to DataCamp Workspaces.ipynb",
   "provenance": []
  },
  "kernelspec": {
   "display_name": "Python 3 (ipykernel)",
   "language": "python",
   "name": "python3"
  },
  "language_info": {
   "codemirror_mode": {
    "name": "ipython",
    "version": 3
   },
   "file_extension": ".py",
   "mimetype": "text/x-python",
   "name": "python",
   "nbconvert_exporter": "python",
   "pygments_lexer": "ipython3",
   "version": "3.10.12"
  }
 },
 "nbformat": 4,
 "nbformat_minor": 5
}
